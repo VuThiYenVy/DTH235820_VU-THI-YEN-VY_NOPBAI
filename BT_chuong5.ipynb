{
 "cells": [
  {
   "cell_type": "code",
   "execution_count": 13,
   "id": "6345bff7",
   "metadata": {},
   "outputs": [
    {
     "name": "stdout",
     "output_type": "stream",
     "text": [
      "Nhập 1 chuỗi:\n",
      "Chuỗi bạn nhập đối xứng\n",
      "Nhập tiếp hay không?(c/k):\n",
      "CÁM ƠN BẠN\n"
     ]
    }
   ],
   "source": [
    "#Câu 1\n",
    "def CheckDoiXung(s):\n",
    "    flag=True\n",
    "    for i in range(len(s)):\n",
    "        if s[i]!=s[len(s)-i-1]:\n",
    "            flag=False\n",
    "            break\n",
    "    return flag\n",
    "def main():\n",
    "    print(\"Nhập 1 chuỗi:\")\n",
    "    s=input()\n",
    "    if(CheckDoiXung(s)):\n",
    "        print(\"Chuỗi bạn nhập đối xứng\")\n",
    "    else:\n",
    "        print(\"Chuỗi bạn nhập không đối xứng\")\n",
    "while True:\n",
    "    main()\n",
    "    print(\"Nhập tiếp hay không?(c/k):\")\n",
    "    s=input()\n",
    "    if s==\"k\" or s==\"K\":\n",
    "        break\n",
    "print(\"CÁM ƠN BẠN\")"
   ]
  },
  {
   "cell_type": "code",
   "execution_count": 12,
   "id": "d8eced4b",
   "metadata": {},
   "outputs": [
    {
     "name": "stdout",
     "output_type": "stream",
     "text": [
      "Nhập 1 chuỗi:\n",
      "Chuỗi ban đầu:\n",
      " Trần  Duy  Khanh => 17\n",
      "Chuỗi sau khi tối ưu:\n",
      "Trần Duy Khanh => 14\n"
     ]
    }
   ],
   "source": [
    "#Câu 2\n",
    "def ToiUuChuoi(s):\n",
    "    s2=s\n",
    "    s2=s2.strip()\n",
    "    arr=s2.split(' ')\n",
    "    s2=\"\"\n",
    "    for x in arr:\n",
    "        word=x\n",
    "        if len(word.strip())!=0:\n",
    "            s2=s2+word+\" \"\n",
    "    return s2.strip()\n",
    "def main():\n",
    "    print(\"Nhập 1 chuỗi:\")\n",
    "    s=input()\n",
    "    print(\"Chuỗi ban đầu:\")\n",
    "    print(s,\"=>\",len(s))\n",
    "    s=ToiUuChuoi(s)\n",
    "    print(\"Chuỗi sau khi tối ưu:\")\n",
    "    print(s,\"=>\",len(s))\n",
    "main()"
   ]
  },
  {
   "cell_type": "code",
   "execution_count": 8,
   "id": "1f7f69d7",
   "metadata": {},
   "outputs": [
    {
     "name": "stdout",
     "output_type": "stream",
     "text": [
      "Nhập dãy số nguyên :\n",
      "2\n",
      "3\n",
      "4\n",
      "5\n",
      "Có  2  số chẵn là:  2 4\n",
      "Có  0  số âm là:  \n",
      "Có  3  số nguyên tố là:  2 3 5\n",
      "Trung bình= 3.5\n"
     ]
    }
   ],
   "source": [
    "#Câu 3\n",
    "def CheckPrime(x):\n",
    "    dem=0\n",
    "    for i in range(1,x+1):\n",
    "        if x % i ==0:\n",
    "            dem+=1\n",
    "    return dem==2\n",
    "def main():\n",
    "    print (\"Nhập dãy số nguyên :\")\n",
    "    s=input()\n",
    "    #arr=s.split()\n",
    "    arr=s.split(';')\n",
    "    sochan=0\n",
    "    soam=0\n",
    "    sont=0\n",
    "    sum=0\n",
    "    chan=[]\n",
    "    am=[]\n",
    "    nt=[]\n",
    "    \n",
    "    for x in arr:\n",
    "        print(x)\n",
    "        number=int(x)\n",
    "        if number % 2 == 0:\n",
    "            sochan += 1\n",
    "            chan.append(number)\n",
    "        if number <0:\n",
    "            soam += 1\n",
    "            am.append(number)\n",
    "        if CheckPrime(number):\n",
    "            sont += 1\n",
    "            nt.append(number)\n",
    "        sum=sum+number\n",
    "    print(\"Có \",sochan,\" số chẵn là: \",' '.join(str(x) for x in chan))\n",
    "    print(\"Có \",soam,\" số âm là: \",' '.join(str(x) for x in am))\n",
    "    print(\"Có \",sont,\" số nguyên tố là: \",' '.join(str(x) for x in nt))\n",
    "    print(\"Trung bình=\",sum/len(arr))\n",
    "main()"
   ]
  },
  {
   "cell_type": "markdown",
   "id": "e63519c5",
   "metadata": {},
   "source": [
    "#Câu 4\n",
    "Một số hàm quan trọng trong xử lý Chuỗi của Python\n",
    "- `len(s)` : Trả về độ dài chuỗi `s`\n",
    "- `s.lower()` : Chuyển chuỗi thành chữ thường\n",
    "- `s.upper()` : Chuyển chuỗi thành chữ hoa\n",
    "- `s.strip()` : Xóa khoảng trắng ở đầu và cuối chuỗi\n",
    "- `s.replace(old, new)` : Thay thế chuỗi con `old` bằng `new`\n",
    "- `s.split(sep)` : Tách chuỗi thành danh sách theo ký tự phân cách `sep`\n",
    "- `s.join(list)` : Nối các phần tử trong list thành chuỗi, ngăn cách bởi `s`\n",
    "- `s.find(sub)` : Tìm vị trí xuất hiện đầu tiên của chuỗi con `sub` trong `s`\n",
    "- `s.count(sub)` : Đếm số lần xuất hiện của chuỗi con `sub` trong `s`\n",
    "- `s.startswith(prefix)` : Kiểm tra chuỗi có bắt đầu bằng `prefix` không\n",
    "- `s.endswith(suffix)` : Kiểm tra chuỗi có kết thúc bằng `suffix` không"
   ]
  },
  {
   "cell_type": "code",
   "execution_count": 9,
   "id": "79e55f67",
   "metadata": {},
   "outputs": [
    {
     "name": "stdout",
     "output_type": "stream",
     "text": [
      "Nhập 1 chuỗi:\n",
      "Chuỗi bạn nhập là: Yen 1??\n",
      "Có  1  ký tự in hoa.\n",
      "Có  2  ký tự in thường.\n",
      "Có  1  ký tự số.\n",
      "Có  2  ký tự đặc biệt.\n",
      "Có  1  ký tự khoảng trắng.\n"
     ]
    }
   ],
   "source": [
    "#Câu 5\n",
    "def TimChuInHoa(s):\n",
    "    dem=0\n",
    "    for i in range(len(s)):\n",
    "        if s[i]>='A' and s[i]<='Z':\n",
    "            dem+=1\n",
    "    return dem\n",
    "def TimChuInThuong(s):\n",
    "    dem=0\n",
    "    for i in range(len(s)):\n",
    "        if s[i]>='a' and s[i]<='z':\n",
    "            dem+=1\n",
    "    return dem\n",
    "def TimChuSo(s):\n",
    "    dem=0\n",
    "    for i in range(len(s)):\n",
    "        if s[i]>='0' and s[i]<='9':\n",
    "            dem+=1\n",
    "    return dem\n",
    "def TimKiTuDacBiet(s):\n",
    "    dem=0\n",
    "    for i in range(len(s)):\n",
    "        if not((s[i]>='A' and s[i]<='Z') or (s[i]>='a' and s[i]<='z') or (s[i]>='0' and s[i]<='9')or (s[i]==' ')):\n",
    "            dem+=1\n",
    "    return dem\n",
    "def TimKhoangTrang(s):\n",
    "    dem=0\n",
    "    for i in range(len(s)):\n",
    "        if s[i]==' ':\n",
    "            dem+=1\n",
    "    return dem\n",
    "def main():\n",
    "    print (\"Nhập 1 chuỗi:\")\n",
    "    s=input()\n",
    "    print (\"Chuỗi bạn nhập là:\",s)\n",
    "    print(\"Có \",TimChuInHoa(s), \" ký tự in hoa.\")\n",
    "    print(\"Có \",TimChuInThuong(s), \" ký tự in thường.\")\n",
    "    print(\"Có \",TimChuSo(s), \" ký tự số.\")\n",
    "    print(\"Có \",TimKiTuDacBiet(s), \" ký tự đặc biệt.\")\n",
    "    print(\"Có \",TimKhoangTrang(s), \" ký tự khoảng trắng.\")\n",
    "main()"
   ]
  },
  {
   "cell_type": "code",
   "execution_count": null,
   "id": "18c16534",
   "metadata": {},
   "outputs": [
    {
     "name": "stdout",
     "output_type": "stream",
     "text": [
      "Nhập 1 chuỗi:\n",
      "Chuỗi bạn nhập là: \n",
      "Có  0  ký tự in hoa: \n",
      "Có  0  ký tự in thường: \n",
      "Có  0  ký tự số: \n",
      "Có  0  ký tự đặc biệt: \n",
      "Có  0  ký tự khoảng trắng \n"
     ]
    }
   ],
   "source": [
    "#Câu 5\n",
    "def TimChuInHoa(s):\n",
    "    s2=[]\n",
    "    for i in range(len(s)):\n",
    "        if s[i]>='A' and s[i]<='Z':\n",
    "            s2.append(s[i])\n",
    "    return s2\n",
    "def TimChuInThuong(s):\n",
    "    s2=[]\n",
    "    for i in range(len(s)):\n",
    "        if s[i]>='a' and s[i]<='z':\n",
    "            s2.append(s[i])\n",
    "    return s2\n",
    "def TimChuSo(s):\n",
    "    s2=[]\n",
    "    for i in range(len(s)):\n",
    "        if s[i]>='0' and s[i]<='9':\n",
    "            s2.append(s[i])\n",
    "    return s2\n",
    "def TimKiTuDacBiet(s):\n",
    "    s2=[]\n",
    "    for i in range(len(s)):\n",
    "        if not((s[i]>='A' and s[i]<='Z') or (s[i]>='a' and s[i]<='z') or (s[i]>='0' and s[i]<='9')or (s[i]==' ')):\n",
    "            s2.append(s[i])\n",
    "    return s2\n",
    "    return dem\n",
    "def TimKhoangTrang(s):\n",
    "    s2=[]\n",
    "    for i in range(len(s)):\n",
    "        if s[i]==' ':\n",
    "            s2.append(s[i])\n",
    "    return s2\n",
    "def main():\n",
    "    s2=[]\n",
    "    print (\"Nhập 1 chuỗi:\")\n",
    "    s=input()\n",
    "    print (\"Chuỗi bạn nhập là:\",s)\n",
    "    print(\"Có \",len(TimChuInHoa(s)), \" ký tự in hoa:\", ' '.join(TimChuInHoa(s)))\n",
    "    print(\"Có \",len(TimChuInThuong(s)), \" ký tự in thường:\", ' '.join(TimChuInThuong(s)))\n",
    "    print(\"Có \",len(TimChuSo(s)), \" ký tự số:\", ' '.join(TimChuSo(s)))\n",
    "    print(\"Có \",len(TimKiTuDacBiet(s)), \" ký tự đặc biệt:\", ' '.join(TimKiTuDacBiet(s)))\n",
    "    print(\"Có \",len(TimKhoangTrang(s)), \" ký tự khoảng trắng\", ' '.join(TimKhoangTrang(s)))\n",
    "main()"
   ]
  },
  {
   "cell_type": "code",
   "execution_count": null,
   "id": "774290f5",
   "metadata": {},
   "outputs": [
    {
     "name": "stdout",
     "output_type": "stream",
     "text": [
      "Chuỗi vừa nhập là: 34-5--a-5.6\n",
      "Các số nguyên âm trong chuỗi là:\n",
      "-5\n"
     ]
    }
   ],
   "source": [
    "#Câu 6\n",
    "import re\n",
    "\n",
    "def NegativeNumberInStrings(s):\n",
    "    # Tìm tất cả số nguyên âm trong chuỗi\n",
    "    numbers = re.findall(r'(?<!-)-\\d+(?!\\.)', s)\n",
    "    for num in numbers:\n",
    "        print(num)\n",
    "\n",
    "# Ví dụ sử dụng\n",
    "s = input(\"Nhập chuỗi: \")\n",
    "print(\"Chuỗi vừa nhập là:\", s)\n",
    "print(\"Các số nguyên âm trong chuỗi là:\")\n",
    "NegativeNumberInStrings(s)"
   ]
  },
  {
   "cell_type": "code",
   "execution_count": 25,
   "id": "d3e1818c",
   "metadata": {},
   "outputs": [
    {
     "name": "stdout",
     "output_type": "stream",
     "text": [
      "Chuỗi vừa nhập là:        TRần duY thAnH \n",
      "Chuỗi sau khi tối ưu: Trần Duy Thanh\n"
     ]
    }
   ],
   "source": [
    "#Câu 7\n",
    "def ToiUuChuoiDanhTu(s):\n",
    "    # Xóa khoảng trắng dư thừa và viết hoa chữ cái đầu mỗi từ\n",
    "    s = s.strip()\n",
    "    arr = s.split()\n",
    "    arr = [word.capitalize() for word in arr if word.strip() != \"\"]\n",
    "    return ' '.join(arr)\n",
    "def main():\n",
    "    s = input(\"Nhập chuỗi danh từ: \")\n",
    "    print(\"Chuỗi vừa nhập là:\", s)\n",
    "    print(\"Chuỗi sau khi tối ưu:\", ToiUuChuoiDanhTu(s))\n",
    "main()"
   ]
  },
  {
   "cell_type": "code",
   "execution_count": null,
   "id": "fbaca066",
   "metadata": {},
   "outputs": [],
   "source": []
  }
 ],
 "metadata": {
  "kernelspec": {
   "display_name": "Python 3",
   "language": "python",
   "name": "python3"
  },
  "language_info": {
   "codemirror_mode": {
    "name": "ipython",
    "version": 3
   },
   "file_extension": ".py",
   "mimetype": "text/x-python",
   "name": "python",
   "nbconvert_exporter": "python",
   "pygments_lexer": "ipython3",
   "version": "3.13.7"
  }
 },
 "nbformat": 4,
 "nbformat_minor": 5
}
